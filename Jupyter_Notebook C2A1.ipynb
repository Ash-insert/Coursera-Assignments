{
 "cells": [
  {
   "cell_type": "markdown",
   "metadata": {},
   "source": [
    "<center>\n",
    "    <img src=\"https://cf-courses-data.s3.us.cloud-object-storage.appdomain.cloud/IBMDeveloperSkillsNetwork-DS0105EN-SkillsNetwork/labs/Module2/images/SN_web_lightmode.png\" width=\"300\" alt=\"cognitiveclass.ai logo\"  />\n",
    "</center>\n"
   ]
  },
  {
   "cell_type": "markdown",
   "metadata": {},
   "source": [
    "#### Add your code below following the instructions given in the course\n"
   ]
  },
  {
   "cell_type": "markdown",
   "metadata": {},
   "source": [
    "# \"My Jupyter Notebook on IBM Watson Studio\" "
   ]
  },
  {
   "cell_type": "markdown",
   "metadata": {},
   "source": [
    "**Aniket Hinge** \\\n",
    "Occupation: Student"
   ]
  },
  {
   "cell_type": "markdown",
   "metadata": {},
   "source": [
    "*I like mathematics and programming and data science is a field which includes both that is why I developed interest in data science. I took some courses of data science in my college which motivated me in choosing data science as my carrier.*"
   ]
  },
  {
   "cell_type": "markdown",
   "metadata": {},
   "source": [
    "### The goal of the code in the next cell is to print square of numbers from 1 to 5, for that I am using a for loop. ###"
   ]
  },
  {
   "cell_type": "code",
   "execution_count": 2,
   "metadata": {},
   "outputs": [
    {
     "name": "stdout",
     "output_type": "stream",
     "text": [
      "1\n",
      "4\n",
      "9\n",
      "16\n",
      "25\n"
     ]
    }
   ],
   "source": [
    "# Intiate a for loop\n",
    "for i in range(1,6):\n",
    "    #print square of i\n",
    "    print(i*i)"
   ]
  },
  {
   "cell_type": "markdown",
   "metadata": {},
   "source": [
    "### Bulleted List ###\n",
    "- First item of bulleted list\n",
    "- Second item of bulleted list\n",
    "- Third item of bulleted list\n",
    "---\n",
    "### Numbered List ###\n",
    "1. First item of numbered list\n",
    "2. Second item of numbered list\n",
    "3. Third item of numbered list\n",
    "---\n",
    "### Table ###\n",
    "| Column 1 | Column 2 |\n",
    "| ----------- | ----------- |\n",
    "| Python | R |\n",
    "| Pandas | ggplot |\n",
    "\n",
    "---\n",
    "### Code in above cell ###\n",
    "`for i in range(1,6):`\\\n",
    "    `#print square of i`\\\n",
    "    `print(i*i)`\n",
    "    \n",
    "---    \n",
    "### Strikethrough ###\n",
    "~~This sentence is wrong~~\n",
    "\n",
    "\n"
   ]
  }
 ],
 "metadata": {
  "kernelspec": {
   "display_name": "Python",
   "language": "python",
   "name": "conda-env-python-py"
  },
  "language_info": {
   "codemirror_mode": {
    "name": "ipython",
    "version": 3
   },
   "file_extension": ".py",
   "mimetype": "text/x-python",
   "name": "python",
   "nbconvert_exporter": "python",
   "pygments_lexer": "ipython3",
   "version": "3.7.12"
  }
 },
 "nbformat": 4,
 "nbformat_minor": 4
}
